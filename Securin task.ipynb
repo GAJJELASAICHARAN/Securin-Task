{
 "cells": [
  {
   "cell_type": "markdown",
   "id": "7396aa37",
   "metadata": {},
   "source": [
    "# SECURIN TASK"
   ]
  },
  {
   "cell_type": "markdown",
   "id": "481e2d35",
   "metadata": {},
   "source": [
    "# NAME::GAJJELA SAI CHARAN "
   ]
  },
  {
   "cell_type": "markdown",
   "id": "80eb6f9c",
   "metadata": {},
   "source": [
    "# REG NO::40731025"
   ]
  },
  {
   "cell_type": "markdown",
   "id": "1e0d3a38",
   "metadata": {},
   "source": [
    "# PART A"
   ]
  },
  {
   "cell_type": "markdown",
   "id": "a977d3e5",
   "metadata": {},
   "source": [
    "# Question 1"
   ]
  },
  {
   "cell_type": "code",
   "execution_count": 1,
   "id": "96d2baa2",
   "metadata": {},
   "outputs": [
    {
     "name": "stdout",
     "output_type": "stream",
     "text": [
      "Total Combinations: 36\n"
     ]
    }
   ],
   "source": [
    "Combinations=0\n",
    "for Die_A in range(1,7):\n",
    "    for Die_B in range(1,7):\n",
    "        Combinations = Combinations+1\n",
    "print(\"Total Combinations:\",Combinations)"
   ]
  },
  {
   "cell_type": "markdown",
   "id": "d7cb55fb",
   "metadata": {},
   "source": [
    "\n",
    "# Question 2"
   ]
  },
  {
   "cell_type": "code",
   "execution_count": 2,
   "id": "0cab2271",
   "metadata": {},
   "outputs": [
    {
     "name": "stdout",
     "output_type": "stream",
     "text": [
      "[2, 3, 4, 5, 6, 7]\n",
      "[3, 4, 5, 6, 7, 8]\n",
      "[4, 5, 6, 7, 8, 9]\n",
      "[5, 6, 7, 8, 9, 10]\n",
      "[6, 7, 8, 9, 10, 11]\n",
      "[7, 8, 9, 10, 11, 12]\n"
     ]
    }
   ],
   "source": [
    "combinations_matrix = []\n",
    "for Die_A in range(1,7):\n",
    "    row = []\n",
    "    for Die_B in range(1,7):\n",
    "        row.append(Die_A+Die_B)\n",
    "    combinations_matrix.append(row)\n",
    "    print(row)"
   ]
  },
  {
   "cell_type": "markdown",
   "id": "1ec70e9f",
   "metadata": {},
   "source": [
    "# Question 3"
   ]
  },
  {
   "cell_type": "code",
   "execution_count": 3,
   "id": "12856d9f",
   "metadata": {},
   "outputs": [
    {
     "name": "stdout",
     "output_type": "stream",
     "text": [
      "P(sum = 2) = 0.027778\n",
      "P(sum = 3) = 0.055556\n",
      "P(sum = 4) = 0.083333\n",
      "P(sum = 5) = 0.111111\n",
      "P(sum = 6) = 0.138889\n",
      "P(sum = 7) = 0.166667\n",
      "P(sum = 8) = 0.138889\n",
      "P(sum = 9) = 0.111111\n",
      "P(sum = 10) = 0.083333\n",
      "P(sum = 11) = 0.055556\n",
      "P(sum = 12) = 0.027778\n"
     ]
    }
   ],
   "source": [
    "combinations = 36\n",
    "sum = {}\n",
    "for Die_A in range(1,7):\n",
    "    for Die_B in range(1,7):\n",
    "        total = (Die_A+Die_B)\n",
    "        if total in sum:\n",
    "            sum[total] = sum[total]+1\n",
    "        else:\n",
    "            sum[total]=1\n",
    "for value in sum.keys():\n",
    "    count = sum[value]\n",
    "    probability = count / combinations\n",
    "    print(\"P(sum = {}) = {:4f}\".format(value,probability))"
   ]
  },
  {
   "cell_type": "markdown",
   "id": "b9699d3e",
   "metadata": {},
   "source": [
    "# PART B\n"
   ]
  },
  {
   "cell_type": "markdown",
   "id": "d46809ee",
   "metadata": {},
   "source": [
    "# Question 1"
   ]
  },
  {
   "cell_type": "code",
   "execution_count": 4,
   "id": "837beb9f",
   "metadata": {},
   "outputs": [
    {
     "name": "stdout",
     "output_type": "stream",
     "text": [
      "Die A is: 1 2 3 4 2 3\n",
      "Die B is: 1 3 4 5 6 8\n",
      "Die A is: 1 2 3 4 2 3\n",
      "Die B is: 1 3 4 5 8 6\n",
      "Die A is: 1 2 3 4 3 2\n",
      "Die B is: 1 3 4 5 6 8\n",
      "Die A is: 1 2 3 4 3 2\n",
      "Die B is: 1 3 4 5 8 6\n"
     ]
    }
   ],
   "source": [
    "dieA = [1, 2, 3, 4, 0, 0]\n",
    "dieB = [1, 3, 4, 5, 6, 0]\n",
    "\n",
    "target = {\n",
    "    2: 1,\n",
    "    3: 2,\n",
    "    4: 3,\n",
    "    5: 4,\n",
    "    6: 5,\n",
    "    7: 6,\n",
    "    8: 5,\n",
    "    9: 4,\n",
    "    10: 3,\n",
    "    11: 2,\n",
    "    12: 1\n",
    "}\n",
    "\n",
    "def validate_cur_combination():\n",
    "    cur = {}\n",
    "    for i in range(6):\n",
    "        for j in range(6):\n",
    "            cur[dieA[i] + dieB[j]] = cur.get(dieA[i] + dieB[j], 0) + 1\n",
    "    return target == cur\n",
    "\n",
    "def print_die():\n",
    "    print(\"Die A is:\", end=\" \")\n",
    "    print(*dieA)\n",
    "    \n",
    "    print(\"Die B is:\", end=\" \")\n",
    "    print(*dieB)\n",
    "\n",
    "def backtrack(curA, curB):\n",
    "    if curA == 6 and curB == 6:\n",
    "        if validate_cur_combination():\n",
    "            print_die()\n",
    "            exit(1)\n",
    "        return\n",
    "\n",
    "    for k in range(4):\n",
    "        curAHit = k + 1\n",
    "        for l in range(11):\n",
    "            curBHit = l + 1\n",
    "            dieA[curA] = curAHit\n",
    "            dieB[curB] = curBHit\n",
    "            backtrack(curA + 1, curB + 1)\n",
    "\n",
    "if __name__ == \"__main__\":\n",
    "    backtrack(4, 4)\n"
   ]
  }
 ],
 "metadata": {
  "kernelspec": {
   "display_name": "Python 3 (ipykernel)",
   "language": "python",
   "name": "python3"
  },
  "language_info": {
   "codemirror_mode": {
    "name": "ipython",
    "version": 3
   },
   "file_extension": ".py",
   "mimetype": "text/x-python",
   "name": "python",
   "nbconvert_exporter": "python",
   "pygments_lexer": "ipython3",
   "version": "3.9.13"
  }
 },
 "nbformat": 4,
 "nbformat_minor": 5
}
